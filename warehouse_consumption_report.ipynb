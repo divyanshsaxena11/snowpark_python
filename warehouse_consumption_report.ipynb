{
 "cells": [
  {
   "attachments": {},
   "cell_type": "markdown",
   "metadata": {},
   "source": [
    "# Snowflake Warehouse Reports Using Snowflake Snowpark"
   ]
  },
  {
   "attachments": {},
   "cell_type": "markdown",
   "metadata": {},
   "source": [
    "<blockquote>\n",
    "    Calling Configuration Notebook at #1\n",
    "    <br>Establishing Connection To Snowflake \n",
    "    <br>Generating Warehouse Cost Matrix From Snowflake\n",
    "    <br>Sending an Customized Alert\n",
    "</blockquote>"
   ]
  },
  {
   "cell_type": "code",
   "execution_count": 1,
   "metadata": {},
   "outputs": [],
   "source": [
    "%run ./sf_config.ipynb"
   ]
  },
  {
   "cell_type": "code",
   "execution_count": 2,
   "metadata": {},
   "outputs": [],
   "source": [
    "conn = Session.builder.configs(conn_config).create()"
   ]
  },
  {
   "cell_type": "code",
   "execution_count": 3,
   "metadata": {},
   "outputs": [],
   "source": [
    "query_history = conn.table(\"snowflake.account_usage.query_history\")"
   ]
  },
  {
   "cell_type": "code",
   "execution_count": 7,
   "metadata": {},
   "outputs": [
    {
     "name": "stdout",
     "output_type": "stream",
     "text": [
      "<snowflake.snowpark.dataframe.DataFrame object at 0x0000020492C79610>\n"
     ]
    }
   ],
   "source": [
    "query_history1 = query_history.select(col(\"query_id\"))\n",
    "print(query_history1)"
   ]
  }
 ],
 "metadata": {
  "kernelspec": {
   "display_name": "py38_env",
   "language": "python",
   "name": "python3"
  },
  "language_info": {
   "codemirror_mode": {
    "name": "ipython",
    "version": 3
   },
   "file_extension": ".py",
   "mimetype": "text/x-python",
   "name": "python",
   "nbconvert_exporter": "python",
   "pygments_lexer": "ipython3",
   "version": "3.8.16"
  },
  "orig_nbformat": 4,
  "vscode": {
   "interpreter": {
    "hash": "53817ae72f503cc7d711329d6873b487e43691bdacb50236037b5d273bf0848f"
   }
  }
 },
 "nbformat": 4,
 "nbformat_minor": 2
}
