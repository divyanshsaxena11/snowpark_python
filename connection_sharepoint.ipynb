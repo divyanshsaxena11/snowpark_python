{
 "cells": [
  {
   "cell_type": "code",
   "execution_count": 2,
   "id": "3853423b",
   "metadata": {},
   "outputs": [],
   "source": [
    "import os\n",
    "\n",
    "from office365.sharepoint.client_context import ClientContext\n",
    "\n"
   ]
  },
  {
   "cell_type": "code",
   "execution_count": null,
   "id": "63ecad6d",
   "metadata": {},
   "outputs": [],
   "source": [
    "ctx = ClientContext(test_team_site_url).with_credentials(test_user_credentials)\n",
    "\n",
    "path = \"../../data/report #123.csv\"\n",
    "with open(path, 'rb') as content_file:\n",
    "    file_content = content_file.read()\n",
    "\n",
    "list_title = \"Documents\"\n",
    "target_folder = ctx.web.lists.get_by_title(list_title).root_folder\n",
    "name = os.path.basename(path)\n",
    "target_file = target_folder.upload_file(name, file_content).execute_query()\n",
    "print(\"File has been uploaded to url: {0}\".format(target_file.serverRelativeUrl))"
   ]
  },
  {
   "cell_type": "code",
   "execution_count": 9,
   "id": "4a840f80",
   "metadata": {},
   "outputs": [
    {
     "ename": "ModuleNotFoundError",
     "evalue": "No module named 'environ'",
     "output_type": "error",
     "traceback": [
      "\u001b[1;31m-------------------------------------------------------------------------\u001b[0m",
      "\u001b[1;31mModuleNotFoundError\u001b[0m                     Traceback (most recent call last)",
      "Cell \u001b[1;32mIn[9], line 1\u001b[0m\n\u001b[1;32m----> 1\u001b[0m \u001b[38;5;28;01mimport\u001b[39;00m \u001b[38;5;21;01menviron\u001b[39;00m\n\u001b[0;32m      2\u001b[0m \u001b[38;5;28;01mfrom\u001b[39;00m \u001b[38;5;21;01moffice365\u001b[39;00m\u001b[38;5;21;01m.\u001b[39;00m\u001b[38;5;21;01msharepoint\u001b[39;00m\u001b[38;5;21;01m.\u001b[39;00m\u001b[38;5;21;01mclient_context\u001b[39;00m \u001b[38;5;28;01mimport\u001b[39;00m ClientContext\n\u001b[0;32m      3\u001b[0m \u001b[38;5;28;01mfrom\u001b[39;00m \u001b[38;5;21;01moffice365\u001b[39;00m\u001b[38;5;21;01m.\u001b[39;00m\u001b[38;5;21;01mruntime\u001b[39;00m\u001b[38;5;21;01m.\u001b[39;00m\u001b[38;5;21;01mauth\u001b[39;00m\u001b[38;5;21;01m.\u001b[39;00m\u001b[38;5;21;01muser_credential\u001b[39;00m \u001b[38;5;28;01mimport\u001b[39;00m UserCredential\n",
      "\u001b[1;31mModuleNotFoundError\u001b[0m: No module named 'environ'"
     ]
    }
   ],
   "source": [
    "import environ\n",
    "from office365.sharepoint.client_context import ClientContext\n",
    "from office365.runtime.auth.user_credential import UserCredential\n",
    "from office365.sharepoint.files.file import File"
   ]
  },
  {
   "cell_type": "code",
   "execution_count": null,
   "id": "e9d78fa1",
   "metadata": {},
   "outputs": [],
   "source": [
    "env = environ.env()\n",
    "environ.Env().read_env()"
   ]
  },
  {
   "cell_type": "code",
   "execution_count": 11,
   "id": "15235e72",
   "metadata": {},
   "outputs": [
    {
     "ename": "HTTPError",
     "evalue": "Current user not permitted to use Confluence",
     "output_type": "error",
     "traceback": [
      "\u001b[1;31m---------------------------------------------------------------------------\u001b[0m",
      "\u001b[1;31mHTTPError\u001b[0m                                 Traceback (most recent call last)",
      "Cell \u001b[1;32mIn[11], line 8\u001b[0m\n\u001b[0;32m      1\u001b[0m \u001b[38;5;28;01mfrom\u001b[39;00m \u001b[38;5;21;01matlassian\u001b[39;00m \u001b[38;5;28;01mimport\u001b[39;00m Confluence\n\u001b[0;32m      3\u001b[0m confluence \u001b[38;5;241m=\u001b[39m Confluence(\n\u001b[0;32m      4\u001b[0m     url\u001b[38;5;241m=\u001b[39m\u001b[38;5;124m'\u001b[39m\u001b[38;5;124mhttps://divyanshsaxena.atlassian.net/wiki\u001b[39m\u001b[38;5;124m'\u001b[39m,\n\u001b[0;32m      5\u001b[0m     username\u001b[38;5;241m=\u001b[39m\u001b[38;5;124m'\u001b[39m\u001b[38;5;124mdivyanshsaxenaofficial@gmail.com\u001b[39m\u001b[38;5;124m'\u001b[39m,\n\u001b[0;32m      6\u001b[0m     token\u001b[38;5;241m=\u001b[39m\u001b[38;5;124m'\u001b[39m\u001b[38;5;124mATATT3xFfGF0dHFyvwXhW3siAliaXqHUmhQv4cwnFJGKVKsa0Nb3w-Syyb_JxGWV0Sm4c5mp9o9DLuL4EamLHFc_fCGQDtzWziMWBOSE_UH7JDVwH4pNl09WVgHU_Hg_Sghq19N8xDv6-hv5WuzyHJ3nfRWjJwct69gAKVqMxgAf7ew3NDLNoBs=C7D82D3E\u001b[39m\u001b[38;5;124m'\u001b[39m)\n\u001b[1;32m----> 8\u001b[0m status \u001b[38;5;241m=\u001b[39m \u001b[43mconfluence\u001b[49m\u001b[38;5;241;43m.\u001b[39;49m\u001b[43mcreate_page\u001b[49m\u001b[43m(\u001b[49m\n\u001b[0;32m      9\u001b[0m \u001b[43m    \u001b[49m\u001b[43mspace\u001b[49m\u001b[38;5;241;43m=\u001b[39;49m\u001b[38;5;124;43m'\u001b[39;49m\u001b[38;5;124;43mDEMO\u001b[39;49m\u001b[38;5;124;43m'\u001b[39;49m\u001b[43m,\u001b[49m\n\u001b[0;32m     10\u001b[0m \u001b[43m    \u001b[49m\u001b[43mtitle\u001b[49m\u001b[38;5;241;43m=\u001b[39;49m\u001b[38;5;124;43m'\u001b[39;49m\u001b[38;5;124;43mThis is the title\u001b[39;49m\u001b[38;5;124;43m'\u001b[39;49m\u001b[43m,\u001b[49m\n\u001b[0;32m     11\u001b[0m \u001b[43m    \u001b[49m\u001b[43mbody\u001b[49m\u001b[38;5;241;43m=\u001b[39;49m\u001b[38;5;124;43m'\u001b[39;49m\u001b[38;5;124;43mThis is the body. You can use <strong>HTML tags</strong>!\u001b[39;49m\u001b[38;5;124;43m'\u001b[39;49m\u001b[43m)\u001b[49m\n\u001b[0;32m     13\u001b[0m \u001b[38;5;28mprint\u001b[39m(status)\n",
      "File \u001b[1;32m~\\anaconda3\\envs\\py38_env\\lib\\site-packages\\atlassian\\confluence.py:762\u001b[0m, in \u001b[0;36mConfluence.create_page\u001b[1;34m(self, space, title, body, parent_id, type, representation, editor, full_width)\u001b[0m\n\u001b[0;32m    760\u001b[0m     data[\u001b[38;5;124m\"\u001b[39m\u001b[38;5;124mmetadata\u001b[39m\u001b[38;5;124m\"\u001b[39m][\u001b[38;5;124m\"\u001b[39m\u001b[38;5;124mproperties\u001b[39m\u001b[38;5;124m\"\u001b[39m][\u001b[38;5;124m\"\u001b[39m\u001b[38;5;124mcontent-appearance-published\u001b[39m\u001b[38;5;124m\"\u001b[39m] \u001b[38;5;241m=\u001b[39m {\u001b[38;5;124m\"\u001b[39m\u001b[38;5;124mvalue\u001b[39m\u001b[38;5;124m\"\u001b[39m: \u001b[38;5;124m\"\u001b[39m\u001b[38;5;124mfull-width\u001b[39m\u001b[38;5;124m\"\u001b[39m}\n\u001b[0;32m    761\u001b[0m \u001b[38;5;28;01mtry\u001b[39;00m:\n\u001b[1;32m--> 762\u001b[0m     response \u001b[38;5;241m=\u001b[39m \u001b[38;5;28;43mself\u001b[39;49m\u001b[38;5;241;43m.\u001b[39;49m\u001b[43mpost\u001b[49m\u001b[43m(\u001b[49m\u001b[43murl\u001b[49m\u001b[43m,\u001b[49m\u001b[43m \u001b[49m\u001b[43mdata\u001b[49m\u001b[38;5;241;43m=\u001b[39;49m\u001b[43mdata\u001b[49m\u001b[43m)\u001b[49m\n\u001b[0;32m    763\u001b[0m \u001b[38;5;28;01mexcept\u001b[39;00m HTTPError \u001b[38;5;28;01mas\u001b[39;00m e:\n\u001b[0;32m    764\u001b[0m     \u001b[38;5;28;01mif\u001b[39;00m e\u001b[38;5;241m.\u001b[39mresponse\u001b[38;5;241m.\u001b[39mstatus_code \u001b[38;5;241m==\u001b[39m \u001b[38;5;241m404\u001b[39m:\n",
      "File \u001b[1;32m~\\anaconda3\\envs\\py38_env\\lib\\site-packages\\atlassian\\rest_client.py:333\u001b[0m, in \u001b[0;36mAtlassianRestAPI.post\u001b[1;34m(self, path, data, json, headers, files, params, trailing, absolute, advanced_mode)\u001b[0m\n\u001b[0;32m    309\u001b[0m \u001b[38;5;28;01mdef\u001b[39;00m \u001b[38;5;21mpost\u001b[39m(\n\u001b[0;32m    310\u001b[0m     \u001b[38;5;28mself\u001b[39m,\n\u001b[0;32m    311\u001b[0m     path,\n\u001b[1;32m   (...)\u001b[0m\n\u001b[0;32m    319\u001b[0m     advanced_mode\u001b[38;5;241m=\u001b[39m\u001b[38;5;28;01mFalse\u001b[39;00m,\n\u001b[0;32m    320\u001b[0m ):\n\u001b[0;32m    321\u001b[0m \u001b[38;5;250m    \u001b[39m\u001b[38;5;124;03m\"\"\"\u001b[39;00m\n\u001b[0;32m    322\u001b[0m \u001b[38;5;124;03m    :param path:\u001b[39;00m\n\u001b[0;32m    323\u001b[0m \u001b[38;5;124;03m    :param data:\u001b[39;00m\n\u001b[1;32m   (...)\u001b[0m\n\u001b[0;32m    331\u001b[0m \u001b[38;5;124;03m    :return: if advanced_mode is not set - returns dictionary. If it is set - returns raw response.\u001b[39;00m\n\u001b[0;32m    332\u001b[0m \u001b[38;5;124;03m    \"\"\"\u001b[39;00m\n\u001b[1;32m--> 333\u001b[0m     response \u001b[38;5;241m=\u001b[39m \u001b[38;5;28;43mself\u001b[39;49m\u001b[38;5;241;43m.\u001b[39;49m\u001b[43mrequest\u001b[49m\u001b[43m(\u001b[49m\n\u001b[0;32m    334\u001b[0m \u001b[43m        \u001b[49m\u001b[38;5;124;43m\"\u001b[39;49m\u001b[38;5;124;43mPOST\u001b[39;49m\u001b[38;5;124;43m\"\u001b[39;49m\u001b[43m,\u001b[49m\n\u001b[0;32m    335\u001b[0m \u001b[43m        \u001b[49m\u001b[43mpath\u001b[49m\u001b[38;5;241;43m=\u001b[39;49m\u001b[43mpath\u001b[49m\u001b[43m,\u001b[49m\n\u001b[0;32m    336\u001b[0m \u001b[43m        \u001b[49m\u001b[43mdata\u001b[49m\u001b[38;5;241;43m=\u001b[39;49m\u001b[43mdata\u001b[49m\u001b[43m,\u001b[49m\n\u001b[0;32m    337\u001b[0m \u001b[43m        \u001b[49m\u001b[43mjson\u001b[49m\u001b[38;5;241;43m=\u001b[39;49m\u001b[43mjson\u001b[49m\u001b[43m,\u001b[49m\n\u001b[0;32m    338\u001b[0m \u001b[43m        \u001b[49m\u001b[43mheaders\u001b[49m\u001b[38;5;241;43m=\u001b[39;49m\u001b[43mheaders\u001b[49m\u001b[43m,\u001b[49m\n\u001b[0;32m    339\u001b[0m \u001b[43m        \u001b[49m\u001b[43mfiles\u001b[49m\u001b[38;5;241;43m=\u001b[39;49m\u001b[43mfiles\u001b[49m\u001b[43m,\u001b[49m\n\u001b[0;32m    340\u001b[0m \u001b[43m        \u001b[49m\u001b[43mparams\u001b[49m\u001b[38;5;241;43m=\u001b[39;49m\u001b[43mparams\u001b[49m\u001b[43m,\u001b[49m\n\u001b[0;32m    341\u001b[0m \u001b[43m        \u001b[49m\u001b[43mtrailing\u001b[49m\u001b[38;5;241;43m=\u001b[39;49m\u001b[43mtrailing\u001b[49m\u001b[43m,\u001b[49m\n\u001b[0;32m    342\u001b[0m \u001b[43m        \u001b[49m\u001b[43mabsolute\u001b[49m\u001b[38;5;241;43m=\u001b[39;49m\u001b[43mabsolute\u001b[49m\u001b[43m,\u001b[49m\n\u001b[0;32m    343\u001b[0m \u001b[43m    \u001b[49m\u001b[43m)\u001b[49m\n\u001b[0;32m    344\u001b[0m     \u001b[38;5;28;01mif\u001b[39;00m \u001b[38;5;28mself\u001b[39m\u001b[38;5;241m.\u001b[39madvanced_mode \u001b[38;5;129;01mor\u001b[39;00m advanced_mode:\n\u001b[0;32m    345\u001b[0m         \u001b[38;5;28;01mreturn\u001b[39;00m response\n",
      "File \u001b[1;32m~\\anaconda3\\envs\\py38_env\\lib\\site-packages\\atlassian\\rest_client.py:257\u001b[0m, in \u001b[0;36mAtlassianRestAPI.request\u001b[1;34m(self, method, path, data, json, flags, params, headers, files, trailing, absolute, advanced_mode)\u001b[0m\n\u001b[0;32m    254\u001b[0m \u001b[38;5;28;01mif\u001b[39;00m \u001b[38;5;28mself\u001b[39m\u001b[38;5;241m.\u001b[39madvanced_mode \u001b[38;5;129;01mor\u001b[39;00m advanced_mode:\n\u001b[0;32m    255\u001b[0m     \u001b[38;5;28;01mreturn\u001b[39;00m response\n\u001b[1;32m--> 257\u001b[0m \u001b[38;5;28;43mself\u001b[39;49m\u001b[38;5;241;43m.\u001b[39;49m\u001b[43mraise_for_status\u001b[49m\u001b[43m(\u001b[49m\u001b[43mresponse\u001b[49m\u001b[43m)\u001b[49m\n\u001b[0;32m    258\u001b[0m \u001b[38;5;28;01mreturn\u001b[39;00m response\n",
      "File \u001b[1;32m~\\anaconda3\\envs\\py38_env\\lib\\site-packages\\atlassian\\confluence.py:3078\u001b[0m, in \u001b[0;36mConfluence.raise_for_status\u001b[1;34m(self, response)\u001b[0m\n\u001b[0;32m   3076\u001b[0m     response\u001b[38;5;241m.\u001b[39mraise_for_status()\n\u001b[0;32m   3077\u001b[0m \u001b[38;5;28;01melse\u001b[39;00m:\n\u001b[1;32m-> 3078\u001b[0m     \u001b[38;5;28;01mraise\u001b[39;00m HTTPError(error_msg, response\u001b[38;5;241m=\u001b[39mresponse)\n",
      "\u001b[1;31mHTTPError\u001b[0m: Current user not permitted to use Confluence"
     ]
    }
   ],
   "source": [
    "from atlassian import Confluence\n",
    "\n",
    "confluence = Confluence(\n",
    "    url='https://divyanshsaxena.atlassian.net/wiki',\n",
    "    username='divyanshsaxenaofficial@gmail.com',\n",
    "    token='ATATT3xFfGF0dHFyvwXhW3siAliaXqHUmhQv4cwnFJGKVKsa0Nb3w-Syyb_JxGWV0Sm4c5mp9o9DLuL4EamLHFc_fCGQDtzWziMWBOSE_UH7JDVwH4pNl09WVgHU_Hg_Sghq19N8xDv6-hv5WuzyHJ3nfRWjJwct69gAKVqMxgAf7ew3NDLNoBs=C7D82D3E')\n",
    "\n",
    "status = confluence.create_page(\n",
    "    space='DEMO',\n",
    "    title='This is the title',\n",
    "    body='This is the body. You can use <strong>HTML tags</strong>!')\n",
    "\n",
    "print(status)"
   ]
  },
  {
   "cell_type": "code",
   "execution_count": 12,
   "id": "9deced8c",
   "metadata": {},
   "outputs": [],
   "source": [
    "# coding=utf-8\n",
    "from atlassian import Confluence\n"
   ]
  },
  {
   "cell_type": "code",
   "execution_count": 42,
   "id": "da4162ff",
   "metadata": {},
   "outputs": [],
   "source": [
    "from atlassian import Confluence\n",
    "import logging\n",
    "\n",
    "logging.basicConfig(filename='conf_connect.log', filemode='w', level=logging.DEBUG)\n",
    "\n",
    "try: \n",
    "    c = Confluence(url=\"https://divyanshsaxena.atlassian.net\", username=\"divyanshsaxenaofficial@gmail.com\", token='ATATT3xFfGF0ndoKHqBV4jj7eness0P_3UoaGa7oHtOUBs1Gg1JWkzaYSJg5DejgY0zMIgI1zuiodYMhN-cs0fVwMbrCn0W3QqzuzbAsY8ms8RDH4S7Hvu407-5cuFClXZA7yAmXWFmSspYl4ZIao_OPLlhzsPNNU4oHIeUlRd2xfjNeWl4kvMU=59035EFA',cloud=True)\n",
    "    # atlassian API does not raise error on init if credentials are wrong, this only happens on the first request\n",
    "    #c.get_user_details_by_username('divyanshsaxenaofficial@gmail.com')\n",
    "    status = c.create_page(\n",
    "    space='DEMO',\n",
    "    title='This is the title',\n",
    "    body='This is the body. You can use <strong>HTML tags</strong>!')\n",
    "\n",
    "except Exception as e:\n",
    "    logging.error(e)"
   ]
  },
  {
   "cell_type": "code",
   "execution_count": 38,
   "id": "3f087014",
   "metadata": {},
   "outputs": [
    {
     "ename": "NameError",
     "evalue": "name 'oauth_dict' is not defined",
     "output_type": "error",
     "traceback": [
      "\u001b[1;31m---------------------------------------------------------------------------\u001b[0m",
      "\u001b[1;31mNameError\u001b[0m                                 Traceback (most recent call last)",
      "Cell \u001b[1;32mIn[38], line 3\u001b[0m\n\u001b[0;32m      1\u001b[0m confluence \u001b[38;5;241m=\u001b[39m Confluence(\n\u001b[0;32m      2\u001b[0m     url\u001b[38;5;241m=\u001b[39m\u001b[38;5;124m'\u001b[39m\u001b[38;5;124mhttps://divyanshsaxena.atlassian.net\u001b[39m\u001b[38;5;124m'\u001b[39m,\n\u001b[1;32m----> 3\u001b[0m     oauth\u001b[38;5;241m=\u001b[39m\u001b[43moauth_dict\u001b[49m)\n",
      "\u001b[1;31mNameError\u001b[0m: name 'oauth_dict' is not defined"
     ]
    }
   ],
   "source": []
  },
  {
   "cell_type": "code",
   "execution_count": 39,
   "id": "a28df1f8",
   "metadata": {},
   "outputs": [
    {
     "ename": "HTTPError",
     "evalue": "401 Client Error: Unauthorized for url: https://divyanshsaxena.atlassian.net/wiki/rest/api/content/425986",
     "output_type": "error",
     "traceback": [
      "\u001b[1;31m---------------------------------------------------------------------------\u001b[0m",
      "\u001b[1;31mJSONDecodeError\u001b[0m                           Traceback (most recent call last)",
      "File \u001b[1;32m~\\anaconda3\\envs\\py38_env\\lib\\site-packages\\requests\\models.py:971\u001b[0m, in \u001b[0;36mResponse.json\u001b[1;34m(self, **kwargs)\u001b[0m\n\u001b[0;32m    970\u001b[0m \u001b[38;5;28;01mtry\u001b[39;00m:\n\u001b[1;32m--> 971\u001b[0m     \u001b[38;5;28;01mreturn\u001b[39;00m \u001b[43mcomplexjson\u001b[49m\u001b[38;5;241;43m.\u001b[39;49m\u001b[43mloads\u001b[49m\u001b[43m(\u001b[49m\u001b[38;5;28;43mself\u001b[39;49m\u001b[38;5;241;43m.\u001b[39;49m\u001b[43mtext\u001b[49m\u001b[43m,\u001b[49m\u001b[43m \u001b[49m\u001b[38;5;241;43m*\u001b[39;49m\u001b[38;5;241;43m*\u001b[39;49m\u001b[43mkwargs\u001b[49m\u001b[43m)\u001b[49m\n\u001b[0;32m    972\u001b[0m \u001b[38;5;28;01mexcept\u001b[39;00m JSONDecodeError \u001b[38;5;28;01mas\u001b[39;00m e:\n\u001b[0;32m    973\u001b[0m     \u001b[38;5;66;03m# Catch JSON-related errors and raise as requests.JSONDecodeError\u001b[39;00m\n\u001b[0;32m    974\u001b[0m     \u001b[38;5;66;03m# This aliases json.JSONDecodeError and simplejson.JSONDecodeError\u001b[39;00m\n",
      "File \u001b[1;32m~\\anaconda3\\envs\\py38_env\\lib\\json\\__init__.py:357\u001b[0m, in \u001b[0;36mloads\u001b[1;34m(s, cls, object_hook, parse_float, parse_int, parse_constant, object_pairs_hook, **kw)\u001b[0m\n\u001b[0;32m    354\u001b[0m \u001b[38;5;28;01mif\u001b[39;00m (\u001b[38;5;28mcls\u001b[39m \u001b[38;5;129;01mis\u001b[39;00m \u001b[38;5;28;01mNone\u001b[39;00m \u001b[38;5;129;01mand\u001b[39;00m object_hook \u001b[38;5;129;01mis\u001b[39;00m \u001b[38;5;28;01mNone\u001b[39;00m \u001b[38;5;129;01mand\u001b[39;00m\n\u001b[0;32m    355\u001b[0m         parse_int \u001b[38;5;129;01mis\u001b[39;00m \u001b[38;5;28;01mNone\u001b[39;00m \u001b[38;5;129;01mand\u001b[39;00m parse_float \u001b[38;5;129;01mis\u001b[39;00m \u001b[38;5;28;01mNone\u001b[39;00m \u001b[38;5;129;01mand\u001b[39;00m\n\u001b[0;32m    356\u001b[0m         parse_constant \u001b[38;5;129;01mis\u001b[39;00m \u001b[38;5;28;01mNone\u001b[39;00m \u001b[38;5;129;01mand\u001b[39;00m object_pairs_hook \u001b[38;5;129;01mis\u001b[39;00m \u001b[38;5;28;01mNone\u001b[39;00m \u001b[38;5;129;01mand\u001b[39;00m \u001b[38;5;129;01mnot\u001b[39;00m kw):\n\u001b[1;32m--> 357\u001b[0m     \u001b[38;5;28;01mreturn\u001b[39;00m \u001b[43m_default_decoder\u001b[49m\u001b[38;5;241;43m.\u001b[39;49m\u001b[43mdecode\u001b[49m\u001b[43m(\u001b[49m\u001b[43ms\u001b[49m\u001b[43m)\u001b[49m\n\u001b[0;32m    358\u001b[0m \u001b[38;5;28;01mif\u001b[39;00m \u001b[38;5;28mcls\u001b[39m \u001b[38;5;129;01mis\u001b[39;00m \u001b[38;5;28;01mNone\u001b[39;00m:\n",
      "File \u001b[1;32m~\\anaconda3\\envs\\py38_env\\lib\\json\\decoder.py:337\u001b[0m, in \u001b[0;36mJSONDecoder.decode\u001b[1;34m(self, s, _w)\u001b[0m\n\u001b[0;32m    333\u001b[0m \u001b[38;5;250m\u001b[39m\u001b[38;5;124;03m\"\"\"Return the Python representation of ``s`` (a ``str`` instance\u001b[39;00m\n\u001b[0;32m    334\u001b[0m \u001b[38;5;124;03mcontaining a JSON document).\u001b[39;00m\n\u001b[0;32m    335\u001b[0m \n\u001b[0;32m    336\u001b[0m \u001b[38;5;124;03m\"\"\"\u001b[39;00m\n\u001b[1;32m--> 337\u001b[0m obj, end \u001b[38;5;241m=\u001b[39m \u001b[38;5;28;43mself\u001b[39;49m\u001b[38;5;241;43m.\u001b[39;49m\u001b[43mraw_decode\u001b[49m\u001b[43m(\u001b[49m\u001b[43ms\u001b[49m\u001b[43m,\u001b[49m\u001b[43m \u001b[49m\u001b[43midx\u001b[49m\u001b[38;5;241;43m=\u001b[39;49m\u001b[43m_w\u001b[49m\u001b[43m(\u001b[49m\u001b[43ms\u001b[49m\u001b[43m,\u001b[49m\u001b[43m \u001b[49m\u001b[38;5;241;43m0\u001b[39;49m\u001b[43m)\u001b[49m\u001b[38;5;241;43m.\u001b[39;49m\u001b[43mend\u001b[49m\u001b[43m(\u001b[49m\u001b[43m)\u001b[49m\u001b[43m)\u001b[49m\n\u001b[0;32m    338\u001b[0m end \u001b[38;5;241m=\u001b[39m _w(s, end)\u001b[38;5;241m.\u001b[39mend()\n",
      "File \u001b[1;32m~\\anaconda3\\envs\\py38_env\\lib\\json\\decoder.py:355\u001b[0m, in \u001b[0;36mJSONDecoder.raw_decode\u001b[1;34m(self, s, idx)\u001b[0m\n\u001b[0;32m    354\u001b[0m \u001b[38;5;28;01mexcept\u001b[39;00m \u001b[38;5;167;01mStopIteration\u001b[39;00m \u001b[38;5;28;01mas\u001b[39;00m err:\n\u001b[1;32m--> 355\u001b[0m     \u001b[38;5;28;01mraise\u001b[39;00m JSONDecodeError(\u001b[38;5;124m\"\u001b[39m\u001b[38;5;124mExpecting value\u001b[39m\u001b[38;5;124m\"\u001b[39m, s, err\u001b[38;5;241m.\u001b[39mvalue) \u001b[38;5;28;01mfrom\u001b[39;00m \u001b[38;5;28mNone\u001b[39m\n\u001b[0;32m    356\u001b[0m \u001b[38;5;28;01mreturn\u001b[39;00m obj, end\n",
      "\u001b[1;31mJSONDecodeError\u001b[0m: Expecting value: line 1 column 1 (char 0)",
      "\nDuring handling of the above exception, another exception occurred:\n",
      "\u001b[1;31mJSONDecodeError\u001b[0m                           Traceback (most recent call last)",
      "File \u001b[1;32m~\\anaconda3\\envs\\py38_env\\lib\\site-packages\\atlassian\\confluence.py:3072\u001b[0m, in \u001b[0;36mConfluence.raise_for_status\u001b[1;34m(self, response)\u001b[0m\n\u001b[0;32m   3071\u001b[0m \u001b[38;5;28;01mtry\u001b[39;00m:\n\u001b[1;32m-> 3072\u001b[0m     j \u001b[38;5;241m=\u001b[39m \u001b[43mresponse\u001b[49m\u001b[38;5;241;43m.\u001b[39;49m\u001b[43mjson\u001b[49m\u001b[43m(\u001b[49m\u001b[43m)\u001b[49m\n\u001b[0;32m   3073\u001b[0m     error_msg \u001b[38;5;241m=\u001b[39m j[\u001b[38;5;124m\"\u001b[39m\u001b[38;5;124mmessage\u001b[39m\u001b[38;5;124m\"\u001b[39m]\n",
      "File \u001b[1;32m~\\anaconda3\\envs\\py38_env\\lib\\site-packages\\requests\\models.py:975\u001b[0m, in \u001b[0;36mResponse.json\u001b[1;34m(self, **kwargs)\u001b[0m\n\u001b[0;32m    972\u001b[0m \u001b[38;5;28;01mexcept\u001b[39;00m JSONDecodeError \u001b[38;5;28;01mas\u001b[39;00m e:\n\u001b[0;32m    973\u001b[0m     \u001b[38;5;66;03m# Catch JSON-related errors and raise as requests.JSONDecodeError\u001b[39;00m\n\u001b[0;32m    974\u001b[0m     \u001b[38;5;66;03m# This aliases json.JSONDecodeError and simplejson.JSONDecodeError\u001b[39;00m\n\u001b[1;32m--> 975\u001b[0m     \u001b[38;5;28;01mraise\u001b[39;00m RequestsJSONDecodeError(e\u001b[38;5;241m.\u001b[39mmsg, e\u001b[38;5;241m.\u001b[39mdoc, e\u001b[38;5;241m.\u001b[39mpos)\n",
      "\u001b[1;31mJSONDecodeError\u001b[0m: Expecting value: line 1 column 1 (char 0)",
      "\nDuring handling of the above exception, another exception occurred:\n",
      "\u001b[1;31mHTTPError\u001b[0m                                 Traceback (most recent call last)",
      "Cell \u001b[1;32mIn[39], line 9\u001b[0m\n\u001b[0;32m      1\u001b[0m confluence \u001b[38;5;241m=\u001b[39m Confluence(url\u001b[38;5;241m=\u001b[39m\u001b[38;5;124m\"\u001b[39m\u001b[38;5;124mhttps://divyanshsaxena.atlassian.net\u001b[39m\u001b[38;5;124m\"\u001b[39m, username\u001b[38;5;241m=\u001b[39m\u001b[38;5;124m\"\u001b[39m\u001b[38;5;124mdivyanshsaxenaofficial@gmail.com\u001b[39m\u001b[38;5;124m\"\u001b[39m, password\u001b[38;5;241m=\u001b[39m\u001b[38;5;124m\"\u001b[39m\u001b[38;5;124mDivyansh@123\u001b[39m\u001b[38;5;124m\"\u001b[39m,cloud\u001b[38;5;241m=\u001b[39m\u001b[38;5;28;01mTrue\u001b[39;00m)\n\u001b[0;32m      3\u001b[0m \u001b[38;5;66;03m# If you know Space and Title\u001b[39;00m\n\u001b[0;32m      4\u001b[0m \u001b[38;5;66;03m#content1 = confluence.get_page_by_title(space=\"SPACE\", title=\"page title\")\u001b[39;00m\n\u001b[0;32m      5\u001b[0m \n\u001b[0;32m      6\u001b[0m \u001b[38;5;66;03m#print(content1)\u001b[39;00m\n\u001b[0;32m      7\u001b[0m \n\u001b[0;32m      8\u001b[0m \u001b[38;5;66;03m# If you know page_id of the page\u001b[39;00m\n\u001b[1;32m----> 9\u001b[0m content2 \u001b[38;5;241m=\u001b[39m \u001b[43mconfluence\u001b[49m\u001b[38;5;241;43m.\u001b[39;49m\u001b[43mget_page_by_id\u001b[49m\u001b[43m(\u001b[49m\u001b[43mpage_id\u001b[49m\u001b[38;5;241;43m=\u001b[39;49m\u001b[38;5;241;43m425986\u001b[39;49m\u001b[43m)\u001b[49m\n\u001b[0;32m     11\u001b[0m \u001b[38;5;28mprint\u001b[39m(content2)\n",
      "File \u001b[1;32m~\\anaconda3\\envs\\py38_env\\lib\\site-packages\\atlassian\\confluence.py:342\u001b[0m, in \u001b[0;36mConfluence.get_page_by_id\u001b[1;34m(self, page_id, expand, status, version)\u001b[0m\n\u001b[0;32m    339\u001b[0m url \u001b[38;5;241m=\u001b[39m \u001b[38;5;124m\"\u001b[39m\u001b[38;5;124mrest/api/content/\u001b[39m\u001b[38;5;132;01m{page_id}\u001b[39;00m\u001b[38;5;124m\"\u001b[39m\u001b[38;5;241m.\u001b[39mformat(page_id\u001b[38;5;241m=\u001b[39mpage_id)\n\u001b[0;32m    341\u001b[0m \u001b[38;5;28;01mtry\u001b[39;00m:\n\u001b[1;32m--> 342\u001b[0m     response \u001b[38;5;241m=\u001b[39m \u001b[38;5;28;43mself\u001b[39;49m\u001b[38;5;241;43m.\u001b[39;49m\u001b[43mget\u001b[49m\u001b[43m(\u001b[49m\u001b[43murl\u001b[49m\u001b[43m,\u001b[49m\u001b[43m \u001b[49m\u001b[43mparams\u001b[49m\u001b[38;5;241;43m=\u001b[39;49m\u001b[43mparams\u001b[49m\u001b[43m)\u001b[49m\n\u001b[0;32m    343\u001b[0m \u001b[38;5;28;01mexcept\u001b[39;00m HTTPError \u001b[38;5;28;01mas\u001b[39;00m e:\n\u001b[0;32m    344\u001b[0m     \u001b[38;5;28;01mif\u001b[39;00m e\u001b[38;5;241m.\u001b[39mresponse\u001b[38;5;241m.\u001b[39mstatus_code \u001b[38;5;241m==\u001b[39m \u001b[38;5;241m404\u001b[39m:\n\u001b[0;32m    345\u001b[0m         \u001b[38;5;66;03m# Raise ApiError as the documented reason is ambiguous\u001b[39;00m\n",
      "File \u001b[1;32m~\\anaconda3\\envs\\py38_env\\lib\\site-packages\\atlassian\\rest_client.py:285\u001b[0m, in \u001b[0;36mAtlassianRestAPI.get\u001b[1;34m(self, path, data, flags, params, headers, not_json_response, trailing, absolute, advanced_mode)\u001b[0m\n\u001b[0;32m    260\u001b[0m \u001b[38;5;28;01mdef\u001b[39;00m \u001b[38;5;21mget\u001b[39m(\n\u001b[0;32m    261\u001b[0m     \u001b[38;5;28mself\u001b[39m,\n\u001b[0;32m    262\u001b[0m     path,\n\u001b[1;32m   (...)\u001b[0m\n\u001b[0;32m    270\u001b[0m     advanced_mode\u001b[38;5;241m=\u001b[39m\u001b[38;5;28;01mFalse\u001b[39;00m,\n\u001b[0;32m    271\u001b[0m ):\n\u001b[0;32m    272\u001b[0m \u001b[38;5;250m    \u001b[39m\u001b[38;5;124;03m\"\"\"\u001b[39;00m\n\u001b[0;32m    273\u001b[0m \u001b[38;5;124;03m    Get request based on the python-requests module. You can override headers, and also, get not json response\u001b[39;00m\n\u001b[0;32m    274\u001b[0m \u001b[38;5;124;03m    :param path:\u001b[39;00m\n\u001b[1;32m   (...)\u001b[0m\n\u001b[0;32m    283\u001b[0m \u001b[38;5;124;03m    :return:\u001b[39;00m\n\u001b[0;32m    284\u001b[0m \u001b[38;5;124;03m    \"\"\"\u001b[39;00m\n\u001b[1;32m--> 285\u001b[0m     response \u001b[38;5;241m=\u001b[39m \u001b[38;5;28;43mself\u001b[39;49m\u001b[38;5;241;43m.\u001b[39;49m\u001b[43mrequest\u001b[49m\u001b[43m(\u001b[49m\n\u001b[0;32m    286\u001b[0m \u001b[43m        \u001b[49m\u001b[38;5;124;43m\"\u001b[39;49m\u001b[38;5;124;43mGET\u001b[39;49m\u001b[38;5;124;43m\"\u001b[39;49m\u001b[43m,\u001b[49m\n\u001b[0;32m    287\u001b[0m \u001b[43m        \u001b[49m\u001b[43mpath\u001b[49m\u001b[38;5;241;43m=\u001b[39;49m\u001b[43mpath\u001b[49m\u001b[43m,\u001b[49m\n\u001b[0;32m    288\u001b[0m \u001b[43m        \u001b[49m\u001b[43mflags\u001b[49m\u001b[38;5;241;43m=\u001b[39;49m\u001b[43mflags\u001b[49m\u001b[43m,\u001b[49m\n\u001b[0;32m    289\u001b[0m \u001b[43m        \u001b[49m\u001b[43mparams\u001b[49m\u001b[38;5;241;43m=\u001b[39;49m\u001b[43mparams\u001b[49m\u001b[43m,\u001b[49m\n\u001b[0;32m    290\u001b[0m \u001b[43m        \u001b[49m\u001b[43mdata\u001b[49m\u001b[38;5;241;43m=\u001b[39;49m\u001b[43mdata\u001b[49m\u001b[43m,\u001b[49m\n\u001b[0;32m    291\u001b[0m \u001b[43m        \u001b[49m\u001b[43mheaders\u001b[49m\u001b[38;5;241;43m=\u001b[39;49m\u001b[43mheaders\u001b[49m\u001b[43m,\u001b[49m\n\u001b[0;32m    292\u001b[0m \u001b[43m        \u001b[49m\u001b[43mtrailing\u001b[49m\u001b[38;5;241;43m=\u001b[39;49m\u001b[43mtrailing\u001b[49m\u001b[43m,\u001b[49m\n\u001b[0;32m    293\u001b[0m \u001b[43m        \u001b[49m\u001b[43mabsolute\u001b[49m\u001b[38;5;241;43m=\u001b[39;49m\u001b[43mabsolute\u001b[49m\u001b[43m,\u001b[49m\n\u001b[0;32m    294\u001b[0m \u001b[43m        \u001b[49m\u001b[43madvanced_mode\u001b[49m\u001b[38;5;241;43m=\u001b[39;49m\u001b[43madvanced_mode\u001b[49m\u001b[43m,\u001b[49m\n\u001b[0;32m    295\u001b[0m \u001b[43m    \u001b[49m\u001b[43m)\u001b[49m\n\u001b[0;32m    296\u001b[0m     \u001b[38;5;28;01mif\u001b[39;00m \u001b[38;5;28mself\u001b[39m\u001b[38;5;241m.\u001b[39madvanced_mode \u001b[38;5;129;01mor\u001b[39;00m advanced_mode:\n\u001b[0;32m    297\u001b[0m         \u001b[38;5;28;01mreturn\u001b[39;00m response\n",
      "File \u001b[1;32m~\\anaconda3\\envs\\py38_env\\lib\\site-packages\\atlassian\\rest_client.py:257\u001b[0m, in \u001b[0;36mAtlassianRestAPI.request\u001b[1;34m(self, method, path, data, json, flags, params, headers, files, trailing, absolute, advanced_mode)\u001b[0m\n\u001b[0;32m    254\u001b[0m \u001b[38;5;28;01mif\u001b[39;00m \u001b[38;5;28mself\u001b[39m\u001b[38;5;241m.\u001b[39madvanced_mode \u001b[38;5;129;01mor\u001b[39;00m advanced_mode:\n\u001b[0;32m    255\u001b[0m     \u001b[38;5;28;01mreturn\u001b[39;00m response\n\u001b[1;32m--> 257\u001b[0m \u001b[38;5;28;43mself\u001b[39;49m\u001b[38;5;241;43m.\u001b[39;49m\u001b[43mraise_for_status\u001b[49m\u001b[43m(\u001b[49m\u001b[43mresponse\u001b[49m\u001b[43m)\u001b[49m\n\u001b[0;32m    258\u001b[0m \u001b[38;5;28;01mreturn\u001b[39;00m response\n",
      "File \u001b[1;32m~\\anaconda3\\envs\\py38_env\\lib\\site-packages\\atlassian\\confluence.py:3076\u001b[0m, in \u001b[0;36mConfluence.raise_for_status\u001b[1;34m(self, response)\u001b[0m\n\u001b[0;32m   3074\u001b[0m \u001b[38;5;28;01mexcept\u001b[39;00m \u001b[38;5;167;01mException\u001b[39;00m \u001b[38;5;28;01mas\u001b[39;00m e:\n\u001b[0;32m   3075\u001b[0m     log\u001b[38;5;241m.\u001b[39merror(e)\n\u001b[1;32m-> 3076\u001b[0m     \u001b[43mresponse\u001b[49m\u001b[38;5;241;43m.\u001b[39;49m\u001b[43mraise_for_status\u001b[49m\u001b[43m(\u001b[49m\u001b[43m)\u001b[49m\n\u001b[0;32m   3077\u001b[0m \u001b[38;5;28;01melse\u001b[39;00m:\n\u001b[0;32m   3078\u001b[0m     \u001b[38;5;28;01mraise\u001b[39;00m HTTPError(error_msg, response\u001b[38;5;241m=\u001b[39mresponse)\n",
      "File \u001b[1;32m~\\anaconda3\\envs\\py38_env\\lib\\site-packages\\requests\\models.py:1021\u001b[0m, in \u001b[0;36mResponse.raise_for_status\u001b[1;34m(self)\u001b[0m\n\u001b[0;32m   1016\u001b[0m     http_error_msg \u001b[38;5;241m=\u001b[39m (\n\u001b[0;32m   1017\u001b[0m         \u001b[38;5;124mf\u001b[39m\u001b[38;5;124m\"\u001b[39m\u001b[38;5;132;01m{\u001b[39;00m\u001b[38;5;28mself\u001b[39m\u001b[38;5;241m.\u001b[39mstatus_code\u001b[38;5;132;01m}\u001b[39;00m\u001b[38;5;124m Server Error: \u001b[39m\u001b[38;5;132;01m{\u001b[39;00mreason\u001b[38;5;132;01m}\u001b[39;00m\u001b[38;5;124m for url: \u001b[39m\u001b[38;5;132;01m{\u001b[39;00m\u001b[38;5;28mself\u001b[39m\u001b[38;5;241m.\u001b[39murl\u001b[38;5;132;01m}\u001b[39;00m\u001b[38;5;124m\"\u001b[39m\n\u001b[0;32m   1018\u001b[0m     )\n\u001b[0;32m   1020\u001b[0m \u001b[38;5;28;01mif\u001b[39;00m http_error_msg:\n\u001b[1;32m-> 1021\u001b[0m     \u001b[38;5;28;01mraise\u001b[39;00m HTTPError(http_error_msg, response\u001b[38;5;241m=\u001b[39m\u001b[38;5;28mself\u001b[39m)\n",
      "\u001b[1;31mHTTPError\u001b[0m: 401 Client Error: Unauthorized for url: https://divyanshsaxena.atlassian.net/wiki/rest/api/content/425986"
     ]
    }
   ],
   "source": [
    "\n",
    "confluence = Confluence(url=\"https://divyanshsaxena.atlassian.net\", username=\"divyanshsaxenaofficial@gmail.com\", password=\"Divyansh@123\",cloud=True)\n",
    "\n",
    "# If you know Space and Title\n",
    "#content1 = confluence.get_page_by_title(space=\"SPACE\", title=\"page title\")\n",
    "\n",
    "#print(content1)\n",
    "\n",
    "# If you know page_id of the page\n",
    "content2 = confluence.get_page_by_id(page_id=425986)\n",
    "\n",
    "print(content2)"
   ]
  },
  {
   "cell_type": "code",
   "execution_count": 20,
   "id": "002e46b7",
   "metadata": {},
   "outputs": [
    {
     "ename": "SyntaxError",
     "evalue": "invalid syntax (1832178354.py, line 1)",
     "output_type": "error",
     "traceback": [
      "\u001b[1;36m  Cell \u001b[1;32mIn[20], line 1\u001b[1;36m\u001b[0m\n\u001b[1;33m    http://localhost:8080/confluence/rest/api/content?limit=2\u001b[0m\n\u001b[1;37m         ^\u001b[0m\n\u001b[1;31mSyntaxError\u001b[0m\u001b[1;31m:\u001b[0m invalid syntax\n"
     ]
    }
   ],
   "source": [
    "http://localhost:8080/confluence/rest/api/content?limit=2"
   ]
  },
  {
   "cell_type": "code",
   "execution_count": 31,
   "id": "2dba2957",
   "metadata": {},
   "outputs": [],
   "source": [
    "from atlassian import Confluence\n",
    "import requests\n",
    "import json\n",
    "from requests.auth import HTTPBasicAuth\n",
    "\n",
    "confluence = Confluence(\n",
    "url=\"https://divyanshsaxena.atlassian.net\", username=\"divyanshsaxenaofficial@gmail.com\",\n",
    "password='Divyansh@123')"
   ]
  },
  {
   "cell_type": "code",
   "execution_count": 29,
   "id": "e8ed3fc4",
   "metadata": {},
   "outputs": [
    {
     "ename": "ApiPermissionError",
     "evalue": "The calling user does not have permission to view users",
     "output_type": "error",
     "traceback": [
      "\u001b[1;31m---------------------------------------------------------------------------\u001b[0m",
      "\u001b[1;31mHTTPError\u001b[0m                                 Traceback (most recent call last)",
      "File \u001b[1;32m~\\anaconda3\\envs\\py38_env\\lib\\site-packages\\atlassian\\confluence.py:2290\u001b[0m, in \u001b[0;36mConfluence.get_user_details_by_username\u001b[1;34m(self, username, expand)\u001b[0m\n\u001b[0;32m   2289\u001b[0m \u001b[38;5;28;01mtry\u001b[39;00m:\n\u001b[1;32m-> 2290\u001b[0m     response \u001b[38;5;241m=\u001b[39m \u001b[38;5;28;43mself\u001b[39;49m\u001b[38;5;241;43m.\u001b[39;49m\u001b[43mget\u001b[49m\u001b[43m(\u001b[49m\u001b[43murl\u001b[49m\u001b[43m,\u001b[49m\u001b[43m \u001b[49m\u001b[43mparams\u001b[49m\u001b[38;5;241;43m=\u001b[39;49m\u001b[43mparams\u001b[49m\u001b[43m)\u001b[49m\n\u001b[0;32m   2291\u001b[0m \u001b[38;5;28;01mexcept\u001b[39;00m HTTPError \u001b[38;5;28;01mas\u001b[39;00m e:\n",
      "File \u001b[1;32m~\\anaconda3\\envs\\py38_env\\lib\\site-packages\\atlassian\\rest_client.py:285\u001b[0m, in \u001b[0;36mAtlassianRestAPI.get\u001b[1;34m(self, path, data, flags, params, headers, not_json_response, trailing, absolute, advanced_mode)\u001b[0m\n\u001b[0;32m    272\u001b[0m \u001b[38;5;250m\u001b[39m\u001b[38;5;124;03m\"\"\"\u001b[39;00m\n\u001b[0;32m    273\u001b[0m \u001b[38;5;124;03mGet request based on the python-requests module. You can override headers, and also, get not json response\u001b[39;00m\n\u001b[0;32m    274\u001b[0m \u001b[38;5;124;03m:param path:\u001b[39;00m\n\u001b[1;32m   (...)\u001b[0m\n\u001b[0;32m    283\u001b[0m \u001b[38;5;124;03m:return:\u001b[39;00m\n\u001b[0;32m    284\u001b[0m \u001b[38;5;124;03m\"\"\"\u001b[39;00m\n\u001b[1;32m--> 285\u001b[0m response \u001b[38;5;241m=\u001b[39m \u001b[38;5;28;43mself\u001b[39;49m\u001b[38;5;241;43m.\u001b[39;49m\u001b[43mrequest\u001b[49m\u001b[43m(\u001b[49m\n\u001b[0;32m    286\u001b[0m \u001b[43m    \u001b[49m\u001b[38;5;124;43m\"\u001b[39;49m\u001b[38;5;124;43mGET\u001b[39;49m\u001b[38;5;124;43m\"\u001b[39;49m\u001b[43m,\u001b[49m\n\u001b[0;32m    287\u001b[0m \u001b[43m    \u001b[49m\u001b[43mpath\u001b[49m\u001b[38;5;241;43m=\u001b[39;49m\u001b[43mpath\u001b[49m\u001b[43m,\u001b[49m\n\u001b[0;32m    288\u001b[0m \u001b[43m    \u001b[49m\u001b[43mflags\u001b[49m\u001b[38;5;241;43m=\u001b[39;49m\u001b[43mflags\u001b[49m\u001b[43m,\u001b[49m\n\u001b[0;32m    289\u001b[0m \u001b[43m    \u001b[49m\u001b[43mparams\u001b[49m\u001b[38;5;241;43m=\u001b[39;49m\u001b[43mparams\u001b[49m\u001b[43m,\u001b[49m\n\u001b[0;32m    290\u001b[0m \u001b[43m    \u001b[49m\u001b[43mdata\u001b[49m\u001b[38;5;241;43m=\u001b[39;49m\u001b[43mdata\u001b[49m\u001b[43m,\u001b[49m\n\u001b[0;32m    291\u001b[0m \u001b[43m    \u001b[49m\u001b[43mheaders\u001b[49m\u001b[38;5;241;43m=\u001b[39;49m\u001b[43mheaders\u001b[49m\u001b[43m,\u001b[49m\n\u001b[0;32m    292\u001b[0m \u001b[43m    \u001b[49m\u001b[43mtrailing\u001b[49m\u001b[38;5;241;43m=\u001b[39;49m\u001b[43mtrailing\u001b[49m\u001b[43m,\u001b[49m\n\u001b[0;32m    293\u001b[0m \u001b[43m    \u001b[49m\u001b[43mabsolute\u001b[49m\u001b[38;5;241;43m=\u001b[39;49m\u001b[43mabsolute\u001b[49m\u001b[43m,\u001b[49m\n\u001b[0;32m    294\u001b[0m \u001b[43m    \u001b[49m\u001b[43madvanced_mode\u001b[49m\u001b[38;5;241;43m=\u001b[39;49m\u001b[43madvanced_mode\u001b[49m\u001b[43m,\u001b[49m\n\u001b[0;32m    295\u001b[0m \u001b[43m\u001b[49m\u001b[43m)\u001b[49m\n\u001b[0;32m    296\u001b[0m \u001b[38;5;28;01mif\u001b[39;00m \u001b[38;5;28mself\u001b[39m\u001b[38;5;241m.\u001b[39madvanced_mode \u001b[38;5;129;01mor\u001b[39;00m advanced_mode:\n",
      "File \u001b[1;32m~\\anaconda3\\envs\\py38_env\\lib\\site-packages\\atlassian\\rest_client.py:257\u001b[0m, in \u001b[0;36mAtlassianRestAPI.request\u001b[1;34m(self, method, path, data, json, flags, params, headers, files, trailing, absolute, advanced_mode)\u001b[0m\n\u001b[0;32m    255\u001b[0m     \u001b[38;5;28;01mreturn\u001b[39;00m response\n\u001b[1;32m--> 257\u001b[0m \u001b[38;5;28;43mself\u001b[39;49m\u001b[38;5;241;43m.\u001b[39;49m\u001b[43mraise_for_status\u001b[49m\u001b[43m(\u001b[49m\u001b[43mresponse\u001b[49m\u001b[43m)\u001b[49m\n\u001b[0;32m    258\u001b[0m \u001b[38;5;28;01mreturn\u001b[39;00m response\n",
      "File \u001b[1;32m~\\anaconda3\\envs\\py38_env\\lib\\site-packages\\atlassian\\confluence.py:3078\u001b[0m, in \u001b[0;36mConfluence.raise_for_status\u001b[1;34m(self, response)\u001b[0m\n\u001b[0;32m   3077\u001b[0m \u001b[38;5;28;01melse\u001b[39;00m:\n\u001b[1;32m-> 3078\u001b[0m     \u001b[38;5;28;01mraise\u001b[39;00m HTTPError(error_msg, response\u001b[38;5;241m=\u001b[39mresponse)\n",
      "\u001b[1;31mHTTPError\u001b[0m: Current user not permitted to use Confluence",
      "\nDuring handling of the above exception, another exception occurred:\n",
      "\u001b[1;31mApiPermissionError\u001b[0m                        Traceback (most recent call last)",
      "Cell \u001b[1;32mIn[29], line 1\u001b[0m\n\u001b[1;32m----> 1\u001b[0m result \u001b[38;5;241m=\u001b[39m \u001b[43mconfluence\u001b[49m\u001b[38;5;241;43m.\u001b[39;49m\u001b[43mget_user_details_by_username\u001b[49m\u001b[43m(\u001b[49m\u001b[43musername\u001b[49m\u001b[38;5;241;43m=\u001b[39;49m\u001b[38;5;124;43m\"\u001b[39;49m\u001b[38;5;124;43mdivyanshsaxenaofficial@gmail.com\u001b[39;49m\u001b[38;5;124;43m\"\u001b[39;49m\u001b[43m,\u001b[49m\u001b[43m \u001b[49m\u001b[43mexpand\u001b[49m\u001b[38;5;241;43m=\u001b[39;49m\u001b[38;5;124;43m\"\u001b[39;49m\u001b[38;5;124;43mstatus\u001b[39;49m\u001b[38;5;124;43m\"\u001b[39;49m\u001b[43m)\u001b[49m\n\u001b[0;32m      2\u001b[0m \u001b[38;5;28mprint\u001b[39m(result)\n",
      "File \u001b[1;32m~\\anaconda3\\envs\\py38_env\\lib\\site-packages\\atlassian\\confluence.py:2293\u001b[0m, in \u001b[0;36mConfluence.get_user_details_by_username\u001b[1;34m(self, username, expand)\u001b[0m\n\u001b[0;32m   2291\u001b[0m \u001b[38;5;28;01mexcept\u001b[39;00m HTTPError \u001b[38;5;28;01mas\u001b[39;00m e:\n\u001b[0;32m   2292\u001b[0m     \u001b[38;5;28;01mif\u001b[39;00m e\u001b[38;5;241m.\u001b[39mresponse\u001b[38;5;241m.\u001b[39mstatus_code \u001b[38;5;241m==\u001b[39m \u001b[38;5;241m403\u001b[39m:\n\u001b[1;32m-> 2293\u001b[0m         \u001b[38;5;28;01mraise\u001b[39;00m ApiPermissionError(\n\u001b[0;32m   2294\u001b[0m             \u001b[38;5;124m\"\u001b[39m\u001b[38;5;124mThe calling user does not have permission to view users\u001b[39m\u001b[38;5;124m\"\u001b[39m,\n\u001b[0;32m   2295\u001b[0m             reason\u001b[38;5;241m=\u001b[39me,\n\u001b[0;32m   2296\u001b[0m         )\n\u001b[0;32m   2297\u001b[0m     \u001b[38;5;28;01mif\u001b[39;00m e\u001b[38;5;241m.\u001b[39mresponse\u001b[38;5;241m.\u001b[39mstatus_code \u001b[38;5;241m==\u001b[39m \u001b[38;5;241m404\u001b[39m:\n\u001b[0;32m   2298\u001b[0m         \u001b[38;5;28;01mraise\u001b[39;00m ApiNotFoundError(\n\u001b[0;32m   2299\u001b[0m             \u001b[38;5;124m\"\u001b[39m\u001b[38;5;124mThe user with the given username or userkey does not exist\u001b[39m\u001b[38;5;124m\"\u001b[39m,\n\u001b[0;32m   2300\u001b[0m             reason\u001b[38;5;241m=\u001b[39me,\n\u001b[0;32m   2301\u001b[0m         )\n",
      "\u001b[1;31mApiPermissionError\u001b[0m: The calling user does not have permission to view users"
     ]
    }
   ],
   "source": [
    "result = confluence.get_user_details_by_username(username=\"divyanshsaxenaofficial@gmail.com\", expand=\"status\")\n",
    "print(result)"
   ]
  },
  {
   "cell_type": "code",
   "execution_count": null,
   "id": "2d24d038",
   "metadata": {},
   "outputs": [],
   "source": []
  }
 ],
 "metadata": {
  "kernelspec": {
   "display_name": "py38_env",
   "language": "python",
   "name": "python3"
  },
  "language_info": {
   "codemirror_mode": {
    "name": "ipython",
    "version": 3
   },
   "file_extension": ".py",
   "mimetype": "text/x-python",
   "name": "python",
   "nbconvert_exporter": "python",
   "pygments_lexer": "ipython3",
   "version": "3.8.16"
  },
  "vscode": {
   "interpreter": {
    "hash": "53817ae72f503cc7d711329d6873b487e43691bdacb50236037b5d273bf0848f"
   }
  }
 },
 "nbformat": 4,
 "nbformat_minor": 5
}
