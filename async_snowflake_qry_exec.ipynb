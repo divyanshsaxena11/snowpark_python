{
 "cells": [
  {
   "cell_type": "code",
   "execution_count": 3,
   "metadata": {},
   "outputs": [],
   "source": [
    "from snowflake.connector import ProgrammingError,connect\n",
    "import time"
   ]
  },
  {
   "cell_type": "code",
   "execution_count": 9,
   "metadata": {},
   "outputs": [],
   "source": [
    "conn = connect(account= \"vt67141.central-india.azure\",\n",
    "    user= \"divyansh\",\n",
    "    password= \"Divyansh@123\",\n",
    "    role = \"accountadmin\",\n",
    "    warehouse = \"compute_wh\",\n",
    "    database = \"snowflake_alert\",\n",
    "    schema = \"edw\")\n",
    "cur = conn.cursor()\n"
   ]
  },
  {
   "cell_type": "code",
   "execution_count": 11,
   "metadata": {},
   "outputs": [
    {
     "data": {
      "text/plain": [
       "{'queryId': '01aae60b-0000-e8cb-0000-0001042ee0a9',\n",
       " 'getResultUrl': '/queries/01aae60b-0000-e8cb-0000-0001042ee0a9/result',\n",
       " 'queryAbortsAfterSecs': 300,\n",
       " 'progressDesc': None}"
      ]
     },
     "execution_count": 11,
     "metadata": {},
     "output_type": "execute_result"
    }
   ],
   "source": [
    "cur.execute_async('select count(*) from table(generator(timeLimit => 25))')\n",
    "cur.execute_async('select count(*) from table(generator(timeLimit => 25))')\n",
    "cur.execute_async('select count(*) from table(generator(timeLimit => 25))')"
   ]
  },
  {
   "cell_type": "code",
   "execution_count": null,
   "metadata": {},
   "outputs": [],
   "source": []
  }
 ],
 "metadata": {
  "kernelspec": {
   "display_name": "py38_env",
   "language": "python",
   "name": "python3"
  },
  "language_info": {
   "codemirror_mode": {
    "name": "ipython",
    "version": 3
   },
   "file_extension": ".py",
   "mimetype": "text/x-python",
   "name": "python",
   "nbconvert_exporter": "python",
   "pygments_lexer": "ipython3",
   "version": "3.8.16"
  },
  "orig_nbformat": 4,
  "vscode": {
   "interpreter": {
    "hash": "53817ae72f503cc7d711329d6873b487e43691bdacb50236037b5d273bf0848f"
   }
  }
 },
 "nbformat": 4,
 "nbformat_minor": 2
}
