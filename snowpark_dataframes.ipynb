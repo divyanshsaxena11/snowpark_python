{
 "cells": [
  {
   "cell_type": "markdown",
   "id": "58c7e2e7",
   "metadata": {},
   "source": [
    "# Snowflake Snowpark Using Python\n",
    "<blockquote>\n",
    "    Importing Snowflake Snowpark Libraries\n",
    "    <br>Establishing Connection To Snowflake \n",
    "    <br>Understanding Snowpark Dataframe\n",
    "    <br>Reading Snowflake Data into Dataframe\n",
    "</blockquote>"
   ]
  },
  {
   "cell_type": "code",
   "execution_count": null,
   "id": "f4e86fd9",
   "metadata": {},
   "outputs": [],
   "source": [
    "#Importing Librarires for notebook\n",
    "\n",
    "#.. Snowflake Snowpark Session Library\n",
    "from snowflake.snowpark import Session\n",
    "\n",
    "#.. Snowflake Snowpark Datatypes\n",
    "from snowflake.snowpark.types import StructType, StructField, IntegerType, StringType\n",
    "\n",
    "#.. Snowflake Snowpark Transformation\n",
    "from snowflake.snowpark.functions import col\n",
    "\n",
    "#.. Snowflake Snowpark All Functions\n",
    "import snowflake.snowpark.functions as f\n",
    "\n",
    "#.. Snowflake Snowpark Window Function\n",
    "from snowflake.snowpark import Window\n",
    "from snowflake.snowpark.functions import row_number"
   ]
  },
  {
   "cell_type": "code",
   "execution_count": null,
   "id": "19de8a20",
   "metadata": {},
   "outputs": [],
   "source": [
    "# Constructing Dict for Connection Params\n",
    "\n",
    "conn_config = {\n",
    "    \"account\": \"vt67141.central-india.azure\",\n",
    "    \"user\": \"divyansh\",\n",
    "    \"password\": \"Divyansh@123\",\n",
    "    \"role\" : \"accountadmin\",\n",
    "    \"warehouse\" : \"compute_wh\",\n",
    "    \"database\" : \"snowflake_alert\",\n",
    "    \"schema\" : \"edw\"\n",
    "}"
   ]
  },
  {
   "cell_type": "code",
   "execution_count": null,
   "id": "82c43ff7",
   "metadata": {},
   "outputs": [],
   "source": [
    "#Invoking Snowpark Session for Establishing Connection\n",
    "\n",
    "conn = Session.builder.configs(conn_config).create()"
   ]
  },
  {
   "cell_type": "code",
   "execution_count": null,
   "id": "62646c32",
   "metadata": {
    "scrolled": false
   },
   "outputs": [],
   "source": [
    "# Using Snowpark Session Sql to query data\n",
    "# Follows lazily executed approach\n",
    "#.. Will not query data for below on snowflake\n",
    "query_1 = conn.sql(\"select * from tb_catalog_sales limit 10\")\n",
    "\n",
    "#.. Will query data for below on snowflake because of **collect()**\n",
    "query_2 = conn.sql(\"select * from tb_catalog_sales limit 20\").collect()\n",
    "\n",
    "#.. Will query data for query_1 because of **show()**\n",
    "#query_1.show()"
   ]
  },
  {
   "cell_type": "markdown",
   "id": "43b0165e",
   "metadata": {},
   "source": [
    "# Examples on How to Use Snowpark Dataframes"
   ]
  },
  {
   "cell_type": "code",
   "execution_count": null,
   "id": "9be37ab1",
   "metadata": {},
   "outputs": [],
   "source": [
    "#.. Creating Dataframe by directly reading a table\n",
    "\n",
    "df_tbl_read = conn.table(\"edw.tb_catalog_sales\")\n",
    "#df_tbl_read.show()\n",
    "\n",
    "#.. Creating Dataframe by reading data from Stage\n",
    "#conn.sql(\"create stage @test_stage;\").collect()\n",
    "#conn.sql(\"put file://C:\\\\Users\\\\divya\\\\Downloads\\\\test_file.csv  @test_stage;\").collect()\n",
    "df_stg_read = conn.read.schema(StructType([StructField(\"name\", StringType()),StructField(\"url\", StringType()),StructField(\"username\", StringType()),StructField(\"password\", StringType())])).csv(\"@test_stage/test_file.csv\")\n",
    "#df_stg_read.show()\n",
    "\n",
    "#.. Creating Dataframe by specifying range or sequence\n",
    "df_create = conn.create_dataframe([(1,'one'),(2,\"two\")],schema = [\"col_1\",\"col_2\"])\n",
    "df_create_rng = conn.range(1,100,3).to_df(\"col_a\")\n",
    "#df_create.show()\n",
    "#df_create_rng.show()\n",
    "\n",
    "#.. Creating Dataframe by Joining two tables/dataframes\n",
    "df_tbl2_read = conn.table(\"edw.tb_catalog_sales_logs\")\n",
    "df_join = df_tbl_read.join(df_tbl2_read, df_tbl_read[\"CS_ITEM_SK\"] == df_tbl2_read[\"CS_ITEM_SK\"])\n",
    "#df_join.show()\n"
   ]
  },
  {
   "cell_type": "code",
   "execution_count": null,
   "id": "ffbb4e7c",
   "metadata": {},
   "outputs": [],
   "source": [
    "#.. Performing Operations on Snowpark Dataframe\n",
    "\n",
    "#.. Using Select Method to create new Dataframe with specific columns from existing DF\n",
    "#.. https://docs.snowflake.com/ko/developer-guide/snowpark/reference/python/api/snowflake.snowpark.DataFrame.select.html#snowflake.snowpark.DataFrame.select\n",
    "df_select1 = df_tbl_read.select(col(\"CS_SOLD_TIME_SK\"))\n",
    "df_select2 = df_tbl_read.select(col(\"CS_SOLD_TIME_SK\").substr(0, 3).as_(\"column1\"))\n",
    "df_select3 = df_tbl_read.select(col(\"CS_SOLD_TIME_SK\").as_(\"column1\"),col(\"CS_BILL_CDEMO_SK\"))\n",
    "#df_select1.show()\n",
    "#df_select2.show()\n",
    "#df_select3.show()\n",
    "\n",
    "#.. Using Filter Method to filter data (Similar to Where Clause)\n",
    "#.. AND condition - &\n",
    "#.. OR Condition - |\n",
    "#.. https://docs.snowflake.com/ko/developer-guide/snowpark/reference/python/api/snowflake.snowpark.DataFrame.filter.html#snowflake.snowpark.DataFrame.filter\n",
    "df_filter = df_tbl_read.filter((col(\"CS_SOLD_TIME_SK\")==46616)&(col(\"CS_BILL_CDEMO_SK\")==1642927)).select(col(\"CS_EXT_WHOLESALE_COST\"))\n",
    "#df_filter.show()\n",
    "\n",
    "#.. Using SORT Method to Order the data\n",
    "#.. https://docs.snowflake.com/ko/developer-guide/snowpark/reference/python/api/snowflake.snowpark.DataFrame.sort.html#snowflake.snowpark.DataFrame.sort\n",
    "\n",
    "df_sort1 = df_tbl_read.filter((col(\"CS_QUANTITY\").isNotNull()) & (col(\"CS_WHOLESALE_COST\").isNotNull())).sort(col(\"CS_QUANTITY\").asc(),col(\"CS_WHOLESALE_COST\").desc()).select(col(\"CS_ORDER_NUMBER\"),col(\"CS_QUANTITY\"),col(\"CS_WHOLESALE_COST\"),col(\"CS_LIST_PRICE\"))\n",
    "#df_sort1.show()\n",
    "df_sort2 = df_tbl_read.filter((col(\"CS_QUANTITY\").isNotNull()) & (col(\"CS_WHOLESALE_COST\").isNotNull())).sort([col(\"CS_QUANTITY\"),col(\"CS_WHOLESALE_COST\").desc()],ascending=[1,1]).select(col(\"CS_ORDER_NUMBER\"),col(\"CS_QUANTITY\"),col(\"CS_WHOLESALE_COST\"),col(\"CS_LIST_PRICE\"))\n",
    "#df_sort2.show()\n",
    "\n",
    "#.. Using AGG Method to aggregate the data\n",
    "#.. https://docs.snowflake.com/ko/developer-guide/snowpark/reference/python/api/snowflake.snowpark.DataFrame.agg.html#snowflake.snowpark.DataFrame.agg\n",
    "df_sum1 = df_tbl_read.agg(f.sum(\"CS_QUANTITY\"))\n",
    "df_stddev1 = df_tbl_read.agg(f.stddev(\"CS_QUANTITY\"))\n",
    "df_count1 = df_tbl_read.agg(f.count(\"CS_QUANTITY\"))\n",
    "df_max_min1 = df_tbl_read.agg((\"CS_QUANTITY\",\"min\"),(\"CS_WHOLESALE_COST\",\"max\"))\n",
    "df_max_min2 = df_tbl_read.agg({\"CS_QUANTITY\":\"min\",\n",
    "                              \"CS_WHOLESALE_COST\":\"max\"})\n",
    "#df_sum1.show() -- using f.<>\n",
    "#df_stddev1.show() -- using f.<>\n",
    "#df_count1.show() -- using f.<>\n",
    "#df_max_min1.show() -- using Tuple()\n",
    "#df_max_min2.show() -- using Dict{}\n",
    "\n",
    "#.. Using Group_by for grouping aggregate results\n",
    "#.. https://docs.snowflake.com/ko/developer-guide/snowpark/reference/python/api/snowflake.snowpark.DataFrame.group_by.html#snowflake.snowpark.DataFrame.group_by\n",
    "df_group = df_tbl_read.group_by(\"CS_SOLD_DATE_SK\").agg((f.sum(\"CS_QUANTITY\").alias(\"QTY_SUM\")),f.stddev(\"CS_WHOLESALE_COST\").alias(\"STD_Dev\"))\n",
    "#df_group.show()\n",
    "\n",
    "#.. Using Window Method as Window Function\n",
    "#.. https://docs.snowflake.com/ko/developer-guide/snowpark/reference/python/api/snowflake.snowpark.Window.html#snowflake.snowpark.Window\n",
    "df_window = df_tbl_read.with_column(\"Rank\", row_number().over(Window.order_by(col(\"CS_SOLD_DATE_SK\").desc()))).select(col(\"Rank\"),col(\"CS_ORDER_NUMBER\"),col(\"CS_QUANTITY\"),col(\"CS_WHOLESALE_COST\"),col(\"CS_LIST_PRICE\"))\n",
    "#df_window.show()\n",
    "\n",
    "#.. Using DataFrame NA Function for Handling Missing Values\n",
    "#.. https://docs.snowflake.com/ko/developer-guide/snowpark/reference/python/api/snowflake.snowpark.DataFrameNaFunctions.html#snowflake.snowpark.DataFrameNaFunctions\n",
    "df_null_handling = df_tbl_read.filter((col(\"CS_QUANTITY\").isNull()) & (col(\"CS_WHOLESALE_COST\").isNull())).sort([col(\"CS_QUANTITY\"),col(\"CS_WHOLESALE_COST\").desc()],ascending=[1,1]).select(col(\"CS_ORDER_NUMBER\"),col(\"CS_QUANTITY\"),col(\"CS_WHOLESALE_COST\"),col(\"CS_LIST_PRICE\"))\n",
    "#df_null_handling.na.fill({\"CS_QUANTITY\":111}).show()"
   ]
  },
  {
   "cell_type": "code",
   "execution_count": null,
   "id": "d2490a40",
   "metadata": {},
   "outputs": [],
   "source": [
    "#.. Performing Actions on Snowpark Dataframe\n",
    "\n",
    "#.. Using Collect() Method to generate array of rows from a query\n",
    "#df_tbl_read.collect()\n",
    "\n",
    "#.. Using Collect_NoWait() to Execute Query Asynchronously\n",
    "df_async = df_tbl_read.collect_nowait()\n",
    "#df_async.result()\n",
    "\n",
    "#.. Using Show Method to print the result\n",
    "#df_tbl_read.show(5)\n",
    "\n"
   ]
  },
  {
   "cell_type": "code",
   "execution_count": null,
   "id": "655c7ffb",
   "metadata": {},
   "outputs": [],
   "source": [
    "#Closing the Established Connection\n",
    "conn.close()"
   ]
  }
 ],
 "metadata": {
  "kernelspec": {
   "display_name": "Python 3 (ipykernel)",
   "language": "python",
   "name": "python3"
  },
  "language_info": {
   "codemirror_mode": {
    "name": "ipython",
    "version": 3
   },
   "file_extension": ".py",
   "mimetype": "text/x-python",
   "name": "python",
   "nbconvert_exporter": "python",
   "pygments_lexer": "ipython3",
   "version": "3.8.16"
  }
 },
 "nbformat": 4,
 "nbformat_minor": 5
}
